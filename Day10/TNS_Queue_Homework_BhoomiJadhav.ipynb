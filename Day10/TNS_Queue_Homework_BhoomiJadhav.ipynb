{
 "cells": [
  {
   "cell_type": "code",
   "execution_count": 3,
   "id": "5d4b73bc",
   "metadata": {},
   "outputs": [
    {
     "name": "stdout",
     "output_type": "stream",
     "text": [
      "First non-repeating character: B\n"
     ]
    }
   ],
   "source": [
    "#1. first non repeating character in a stream\n",
    "def first_non_repeating(stream):\n",
    "    char_count = {}\n",
    "    for char in stream:\n",
    "        char_count[char] = char_count.get(char, 0) + 1\n",
    "    for char in stream:\n",
    "        if char_count[char] == 1:\n",
    "            return char\n",
    "    return None\n",
    "\n",
    "input_string = \"Bhoomi\"\n",
    "first_non_repeating_char = first_non_repeating(input_string)\n",
    "print(\"First non-repeating character:\", first_non_repeating_char)\n"
   ]
  },
  {
   "cell_type": "code",
   "execution_count": 4,
   "id": "40f5d249",
   "metadata": {},
   "outputs": [
    {
     "name": "stdout",
     "output_type": "stream",
     "text": [
      "Reversed queue: [5, 4, 3, 2, 1]\n"
     ]
    }
   ],
   "source": [
    "#2. revverse queue\n",
    "def reverse_queue(queue):\n",
    "    stack = []\n",
    "    while queue:\n",
    "        stack.append(queue.pop(0))\n",
    "    while stack:\n",
    "        queue.append(stack.pop())\n",
    "    return queue\n",
    "\n",
    "input_queue = [1, 2, 3, 4, 5]\n",
    "reversed_queue = reverse_queue(input_queue)\n",
    "print(\"Reversed queue:\", reversed_queue)"
   ]
  }
 ],
 "metadata": {
  "kernelspec": {
   "display_name": "Python 3",
   "language": "python",
   "name": "python3"
  },
  "language_info": {
   "codemirror_mode": {
    "name": "ipython",
    "version": 3
   },
   "file_extension": ".py",
   "mimetype": "text/x-python",
   "name": "python",
   "nbconvert_exporter": "python",
   "pygments_lexer": "ipython3",
   "version": "3.13.5"
  }
 },
 "nbformat": 4,
 "nbformat_minor": 5
}
