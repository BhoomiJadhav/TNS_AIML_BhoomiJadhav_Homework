{
 "cells": [
  {
   "cell_type": "code",
   "execution_count": null,
   "id": "1b34bfb5",
   "metadata": {},
   "outputs": [
    {
     "name": "stdout",
     "output_type": "stream",
     "text": [
      "Word count dictionary: {'the': 1, 'fox': 1, 'is': 1, 'lion': 1}\n"
     ]
    }
   ],
   "source": [
    "#program that takes a sentence and creates a dictionary with word counts\n",
    "sentence = input(\"Enter a sentence: \")\n",
    "words = sentence.split()\n",
    "word_count = {}\n",
    "for word in words:\n",
    "    word_count[word] = word_count.get(word, 0) + 1\n",
    "print(f\"Word count dictionary: {word_count}\")"
   ]
  },
  {
   "cell_type": "code",
   "execution_count": null,
   "id": "552ca007",
   "metadata": {},
   "outputs": [
    {
     "name": "stdout",
     "output_type": "stream",
     "text": [
      "Roll number to name mapping: {'10': 'Bhoomi', '20': 'Smita', '30': 'Sanket', '40': 'Santosh', '50': 'Shriraj'}\n"
     ]
    }
   ],
   "source": [
    "# program to map roll numbers to names using two lists and form a dictionary.\n",
    "roll_numbers = input(\"Enter roll numbers separated by spaces: \").split()\n",
    "names = input(\"Enter names separated by spaces: \").split()\n",
    "\n",
    "if len(roll_numbers) != len(names):\n",
    "    print(\"Error: Roll numbers and names count must match!\")\n",
    "else:\n",
    "    student_dict = dict(zip(roll_numbers, names))\n",
    "    print(f\"Roll number to name mapping: {student_dict}\")"
   ]
  },
  {
   "cell_type": "code",
   "execution_count": null,
   "id": "9cc37f2e",
   "metadata": {},
   "outputs": [],
   "source": [
    "# program to find the highest marks and top student(s) from a dictionary of students and their marks.\n",
    "students = {\n",
    "    \"Bhoomi\": 88,\n",
    "    \"Smita\": 92,\n",
    "    \"Sanket\": 92,\n",
    "    \"Divya\": 85\n",
    "}\n",
    "\n",
    "highest_marks = max(students.values())\n",
    "top_students = [name for name, marks in students.items() if marks == highest_marks]\n",
    "print(f\"Highest marks: {highest_marks}\")\n",
    "print(f\"Top student(s): {top_students}\")"
   ]
  }
 ],
 "metadata": {
  "kernelspec": {
   "display_name": "Python 3",
   "language": "python",
   "name": "python3"
  },
  "language_info": {
   "codemirror_mode": {
    "name": "ipython",
    "version": 3
   },
   "file_extension": ".py",
   "mimetype": "text/x-python",
   "name": "python",
   "nbconvert_exporter": "python",
   "pygments_lexer": "ipython3",
   "version": "3.13.5"
  }
 },
 "nbformat": 4,
 "nbformat_minor": 5
}
