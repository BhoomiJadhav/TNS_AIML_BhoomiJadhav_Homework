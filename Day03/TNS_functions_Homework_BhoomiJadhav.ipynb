{
 "cells": [
  {
   "cell_type": "code",
   "execution_count": 3,
   "id": "107b5e02",
   "metadata": {},
   "outputs": [
    {
     "name": "stdout",
     "output_type": "stream",
     "text": [
      "The sentence is not a pangram.\n"
     ]
    }
   ],
   "source": [
    "#Write a function to check whether a given string is a pangram (contains all letters of the (alphabet).\n",
    "def is_pangram(sentence):\n",
    "    alphabet = \"abcdefghijklmnopqrstuvwxyz\"\n",
    "    sentence_lower = sentence.lower()\n",
    "    for char in alphabet:\n",
    "        if char not in sentence_lower:\n",
    "            return False\n",
    "    return True\n",
    "\n",
    "is_pangram_input = input(\"Enter a sentence to check if it's a pangram: \")\n",
    "if is_pangram(is_pangram_input):\n",
    "    print(\"The sentence is a pangram.\")\n",
    "else:\n",
    "    print(\"The sentence is not a pangram.\")"
   ]
  },
  {
   "cell_type": "code",
   "execution_count": 6,
   "id": "d47bb9d6",
   "metadata": {},
   "outputs": [
    {
     "name": "stdout",
     "output_type": "stream",
     "text": [
      "The longest word in the sentence is: lion\n"
     ]
    }
   ],
   "source": [
    "#function to find the longest word in a given sentence\n",
    "def longest_word(sentence):\n",
    "    words = sentence.split()\n",
    "    max_word = max(words, key=len)\n",
    "    return max_word\n",
    "\n",
    "input_sentence = input(\"Enter a sentence to find the longest word: \")\n",
    "longest = longest_word(input_sentence)\n",
    "print(f\"The longest word in the sentence is: {longest}\")"
   ]
  },
  {
   "cell_type": "code",
   "execution_count": null,
   "id": "b6010bf3",
   "metadata": {},
   "outputs": [],
   "source": [
    "#function to count the number of uppercase and lowercase letters in a string\n",
    "def count_case(s):\n",
    "    upper_count = sum(1 for c in s if c.isupper())\n",
    "    lower_count = sum(1 for c in s if c.islower())\n",
    "    return upper_count, lower_count\n",
    "string_input = input(\"Enter a string: \")\n",
    "upper, lower = count_case(string_input)\n",
    "print(f\"Uppercase letters: {upper}\")\n",
    "print(f\"Lowercase letters: {lower}\")\n"
   ]
  }
 ],
 "metadata": {
  "kernelspec": {
   "display_name": "Python 3",
   "language": "python",
   "name": "python3"
  },
  "language_info": {
   "codemirror_mode": {
    "name": "ipython",
    "version": 3
   },
   "file_extension": ".py",
   "mimetype": "text/x-python",
   "name": "python",
   "nbconvert_exporter": "python",
   "pygments_lexer": "ipython3",
   "version": "3.13.5"
  }
 },
 "nbformat": 4,
 "nbformat_minor": 5
}
