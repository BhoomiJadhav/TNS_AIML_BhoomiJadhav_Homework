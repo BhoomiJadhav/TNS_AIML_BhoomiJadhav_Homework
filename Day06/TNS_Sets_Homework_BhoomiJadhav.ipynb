{
 "cells": [
  {
   "cell_type": "code",
   "execution_count": null,
   "id": "5cc0d61d",
   "metadata": {},
   "outputs": [
    {
     "name": "stdout",
     "output_type": "stream",
     "text": [
      "Common elements: {'30', '60', '40', '50', '20'}\n"
     ]
    }
   ],
   "source": [
    "#find common elements in two lists\n",
    "list1 = input(\"Enter first list elements separated by spaces: \").split()\n",
    "list2 = input(\"Enter second list elements separated by spaces: \").split()\n",
    "set1 = set(list1)\n",
    "set2 = set(list2)\n",
    "common = set1 and set2  \n",
    "print(f\"Common elements: {common}\")"
   ]
  },
  {
   "cell_type": "code",
   "execution_count": null,
   "id": "5168e3fe",
   "metadata": {},
   "outputs": [
    {
     "name": "stdout",
     "output_type": "stream",
     "text": [
      "The sets are NOT disjoint (they have common elements).\n"
     ]
    }
   ],
   "source": [
    "#check if two sets are disjoint\n",
    "if set1.isdisjoint(set2):\n",
    "    print(\"The sets are disjoint (no common elements).\")\n",
    "else:\n",
    "    print(\"The sets are NOT disjoint (they have common elements).\")"
   ]
  },
  {
   "cell_type": "code",
   "execution_count": null,
   "id": "6f0df530",
   "metadata": {},
   "outputs": [
    {
     "name": "stdout",
     "output_type": "stream",
     "text": [
      "Unique vowels found: {'o', 'i'}\n"
     ]
    }
   ],
   "source": [
    "#find unique vowels in a string\n",
    "string_input = input(\"Enter a string: \").lower()\n",
    "vowels = {'a', 'e', 'i', 'o', 'u'}\n",
    "found_vowels = set(string_input) & vowels\n",
    "print(f\"Unique vowels found: {found_vowels}\")"
   ]
  }
 ],
 "metadata": {
  "kernelspec": {
   "display_name": "Python 3",
   "language": "python",
   "name": "python3"
  },
  "language_info": {
   "codemirror_mode": {
    "name": "ipython",
    "version": 3
   },
   "file_extension": ".py",
   "mimetype": "text/x-python",
   "name": "python",
   "nbconvert_exporter": "python",
   "pygments_lexer": "ipython3",
   "version": "3.13.5"
  }
 },
 "nbformat": 4,
 "nbformat_minor": 5
}
