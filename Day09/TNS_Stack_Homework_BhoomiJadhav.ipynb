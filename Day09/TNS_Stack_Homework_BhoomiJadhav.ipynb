{
 "cells": [
  {
   "cell_type": "code",
   "execution_count": 2,
   "id": "b07b4a7e",
   "metadata": {},
   "outputs": [
    {
     "name": "stdout",
     "output_type": "stream",
     "text": [
      "Reversed string: imoohB\n"
     ]
    }
   ],
   "source": [
    "# reverse string using stack\n",
    "def reverse_string(input_string):\n",
    "    stack = []\n",
    "    for char in input_string:\n",
    "        stack.append(char)\n",
    "    reversed_string = ''\n",
    "    while stack:\n",
    "        reversed_string += stack.pop()\n",
    "    return reversed_string\n",
    "\n",
    "input_string = input(\"Enter a string to reverse: \")\n",
    "reversed_string = reverse_string(input_string)\n",
    "print(\"Reversed string:\", reversed_string)"
   ]
  },
  {
   "cell_type": "code",
   "execution_count": 3,
   "id": "e79f4648",
   "metadata": {},
   "outputs": [
    {
     "name": "stdout",
     "output_type": "stream",
     "text": [
      "String after removing adjacent duplicates: 234\n"
     ]
    }
   ],
   "source": [
    "#remove adjacent duplicates in a stack\n",
    "def remove_adjacent_duplicates(input_string):\n",
    "    stack = []\n",
    "    for char in input_string:\n",
    "        if stack and stack[-1] == char:\n",
    "            stack.pop()\n",
    "        else:\n",
    "            stack.append(char)\n",
    "    return ''.join(stack)\n",
    "\n",
    "input_string = input(\"Enter a string to remove adjacent duplicates: \")\n",
    "result = remove_adjacent_duplicates(input_string)\n",
    "print(\"String after removing adjacent duplicates:\", result)\n"
   ]
  }
 ],
 "metadata": {
  "kernelspec": {
   "display_name": "Python 3",
   "language": "python",
   "name": "python3"
  },
  "language_info": {
   "codemirror_mode": {
    "name": "ipython",
    "version": 3
   },
   "file_extension": ".py",
   "mimetype": "text/x-python",
   "name": "python",
   "nbconvert_exporter": "python",
   "pygments_lexer": "ipython3",
   "version": "3.13.5"
  }
 },
 "nbformat": 4,
 "nbformat_minor": 5
}
