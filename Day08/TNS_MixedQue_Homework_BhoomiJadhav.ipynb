{
 "cells": [
  {
   "cell_type": "code",
   "execution_count": null,
   "id": "d36a0175",
   "metadata": {},
   "outputs": [
    {
     "name": "stdout",
     "output_type": "stream",
     "text": [
      "Dictionary from list of tuples: {'a': 1, 'b': 2}\n"
     ]
    }
   ],
   "source": [
    "#convert a list of tuples to a dictionary\n",
    "tuple_list = [('a', 1), ('b', 2)]\n",
    "dictionary1 = dict(tuple_list)\n",
    "print(f\"Dictionary from list of tuples: {dictionary1}\")"
   ]
  },
  {
   "cell_type": "code",
   "execution_count": 2,
   "id": "e224305d",
   "metadata": {},
   "outputs": [
    {
     "name": "stdout",
     "output_type": "stream",
     "text": [
      "Flattened list: ['apple', 'banana', 'carrot', 'potato', 'water', 'juice']\n"
     ]
    }
   ],
   "source": [
    "#flatten dictionary\n",
    "my_dict = {\n",
    "    'fruits': ['apple', 'banana'],\n",
    "    'veggies': ['carrot', 'potato'],\n",
    "    'drinks': ['water', 'juice']\n",
    "}\n",
    "flattened_list = []\n",
    "for value_list in my_dict.values():\n",
    "    flattened_list.extend(value_list)\n",
    "print(f\"Flattened list: {flattened_list}\")"
   ]
  },
  {
   "cell_type": "code",
   "execution_count": null,
   "id": "d1158d97",
   "metadata": {},
   "outputs": [
    {
     "name": "stdout",
     "output_type": "stream",
     "text": [
      "Element frequency dictionary: {1: 1, 2: 2, 3: 1, 4: 3, 5: 1}\n"
     ]
    }
   ],
   "source": [
    "#program that takes a list with duplicate elements and returns a dictionary with elements as keys and their frequency as values\n",
    "my_list = [1, 2, 2, 3, 4, 4, 4, 5]\n",
    "frequency_dict = {}\n",
    "for item in my_list:\n",
    "    frequency_dict[item] = frequency_dict.get(item, 0) + 1\n",
    "print(f\"Element frequency dictionary: {frequency_dict}\")"
   ]
  }
 ],
 "metadata": {
  "kernelspec": {
   "display_name": "Python 3",
   "language": "python",
   "name": "python3"
  },
  "language_info": {
   "codemirror_mode": {
    "name": "ipython",
    "version": 3
   },
   "file_extension": ".py",
   "mimetype": "text/x-python",
   "name": "python",
   "nbconvert_exporter": "python",
   "pygments_lexer": "ipython3",
   "version": "3.13.5"
  }
 },
 "nbformat": 4,
 "nbformat_minor": 5
}
