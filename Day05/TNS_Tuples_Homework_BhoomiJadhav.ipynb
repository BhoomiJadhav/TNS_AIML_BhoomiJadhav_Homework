{
 "cells": [
  {
   "cell_type": "code",
   "execution_count": null,
   "id": "d273820b",
   "metadata": {},
   "outputs": [
    {
     "name": "stdout",
     "output_type": "stream",
     "text": [
      "Maximum: 50.0\n",
      "Minimum: 10.0\n"
     ]
    }
   ],
   "source": [
    "#finding min and max in a tuple\n",
    "numbers = tuple(float(input(f\"Enter number {i+1}: \")) for i in range(5))\n",
    "print(\"Maximum:\", max(numbers))\n",
    "print(\"Minimum:\", min(numbers))"
   ]
  },
  {
   "cell_type": "code",
   "execution_count": null,
   "id": "256d043c",
   "metadata": {},
   "outputs": [
    {
     "name": "stdout",
     "output_type": "stream",
     "text": [
      "Numbers divisible by 3: 1\n"
     ]
    }
   ],
   "source": [
    "# Count numbers divisible by 3\n",
    "count_div_3 = sum(1 for n in numbers if n % 3 == 0)\n",
    "print(f\"Numbers divisible by 3: {count_div_3}\")"
   ]
  },
  {
   "cell_type": "code",
   "execution_count": null,
   "id": "e31b768d",
   "metadata": {},
   "outputs": [
    {
     "name": "stdout",
     "output_type": "stream",
     "text": [
      "Reversed tuple: (50.0, 40.0, 30.0, 20.0, 10.0)\n"
     ]
    }
   ],
   "source": [
    "# Reversing a tuple\n",
    "reversed_tuple = numbers[::-1]\n",
    "print(f\"Reversed tuple: {reversed_tuple}\")"
   ]
  }
 ],
 "metadata": {
  "kernelspec": {
   "display_name": "Python 3",
   "language": "python",
   "name": "python3"
  },
  "language_info": {
   "codemirror_mode": {
    "name": "ipython",
    "version": 3
   },
   "file_extension": ".py",
   "mimetype": "text/x-python",
   "name": "python",
   "nbconvert_exporter": "python",
   "pygments_lexer": "ipython3",
   "version": "3.13.5"
  }
 },
 "nbformat": 4,
 "nbformat_minor": 5
}
