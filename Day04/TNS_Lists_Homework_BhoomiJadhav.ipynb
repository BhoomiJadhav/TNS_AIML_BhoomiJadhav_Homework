{
 "cells": [
  {
   "cell_type": "code",
   "execution_count": null,
   "id": "fbd4f75b",
   "metadata": {},
   "outputs": [
    {
     "name": "stdout",
     "output_type": "stream",
     "text": [
      "Difference between max and min: 96\n"
     ]
    }
   ],
   "source": [
    "#difference between max and min in a list\n",
    "numbers = [10, 25, 3, 99, 56, 72]\n",
    "difference = max(numbers) - min(numbers)\n",
    "print(f\"Difference between max and min: {difference}\")"
   ]
  },
  {
   "cell_type": "code",
   "execution_count": null,
   "id": "95884262",
   "metadata": {},
   "outputs": [
    {
     "name": "stdout",
     "output_type": "stream",
     "text": [
      "List after removing odd index elements: [10, 30, 50, 70]\n"
     ]
    }
   ],
   "source": [
    "# Remove elements from a list that are at odd indices.\n",
    "my_list = [10, 20, 30, 40, 50, 60, 70]\n",
    "result_list = [my_list[i] for i in range(len(my_list)) if i % 2 == 0]\n",
    "print(f\"List after removing odd index elements: {result_list}\")"
   ]
  },
  {
   "cell_type": "code",
   "execution_count": null,
   "id": "99b205ab",
   "metadata": {},
   "outputs": [
    {
     "name": "stdout",
     "output_type": "stream",
     "text": [
      "Elements appearing exactly once: [6, 7, 9]\n"
     ]
    }
   ],
   "source": [
    "# Find elements that appear exactly once in a list.\n",
    "int_list = [4, 5, 6, 4, 7, 5, 8, 9, 8]\n",
    "unique_elements = [x for x in int_list if int_list.count(x) == 1]\n",
    "print(f\"Elements appearing exactly once: {unique_elements}\")"
   ]
  }
 ],
 "metadata": {
  "kernelspec": {
   "display_name": "Python 3",
   "language": "python",
   "name": "python3"
  },
  "language_info": {
   "codemirror_mode": {
    "name": "ipython",
    "version": 3
   },
   "file_extension": ".py",
   "mimetype": "text/x-python",
   "name": "python",
   "nbconvert_exporter": "python",
   "pygments_lexer": "ipython3",
   "version": "3.13.5"
  }
 },
 "nbformat": 4,
 "nbformat_minor": 5
}
