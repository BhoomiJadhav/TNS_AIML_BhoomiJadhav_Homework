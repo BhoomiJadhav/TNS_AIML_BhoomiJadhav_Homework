{
 "cells": [
  {
   "cell_type": "code",
   "execution_count": 2,
   "id": "94e1b83e",
   "metadata": {},
   "outputs": [
    {
     "name": "stdout",
     "output_type": "stream",
     "text": [
      "Area: 153.86\n",
      "Circumference: 43.96\n"
     ]
    }
   ],
   "source": [
    "#Q.1 Calculate the area and circumference of a circle given its radius.\n",
    "radius = float(input(\"Enter the radius of the circle: \"))\n",
    "area = 3.14 * radius * radius\n",
    "circumference = 2 * 3.14 * radius\n",
    "print(f\"Area: {area}\")\n",
    "print(f\"Circumference: {circumference}\")\n"
   ]
  },
  {
   "cell_type": "code",
   "execution_count": 3,
   "id": "9be716d9",
   "metadata": {},
   "outputs": [
    {
     "name": "stdout",
     "output_type": "stream",
     "text": [
      "15 is divisible by both 3 and 5\n"
     ]
    }
   ],
   "source": [
    "#Q.2 Check if a number is divisible by both 3 and 5.\n",
    "num = int(input(\"Enter a number: \"))\n",
    "if num % 3 == 0 and num % 5 == 0:\n",
    "    print(f\"{num} is divisible by both 3 and 5\")\n",
    "else:\n",
    "    print(f\"{num} is NOT divisible by both 3 and 5\")"
   ]
  },
  {
   "cell_type": "code",
   "execution_count": 5,
   "id": "82f4355f",
   "metadata": {},
   "outputs": [
    {
     "name": "stdout",
     "output_type": "stream",
     "text": [
      "Sum of digits: 10\n"
     ]
    }
   ],
   "source": [
    "number = input(\"Enter a 4-digit number: \")\n",
    "if len(number) == 4 and number.isdigit():\n",
    "    total_sum = sum(int(digit) for digit in number)\n",
    "    print(f\"Sum of digits: {total_sum}\")\n",
    "else:\n",
    "    print(\"Please enter a valid 4-digit number.\")"
   ]
  }
 ],
 "metadata": {
  "kernelspec": {
   "display_name": "Python 3",
   "language": "python",
   "name": "python3"
  },
  "language_info": {
   "codemirror_mode": {
    "name": "ipython",
    "version": 3
   },
   "file_extension": ".py",
   "mimetype": "text/x-python",
   "name": "python",
   "nbconvert_exporter": "python",
   "pygments_lexer": "ipython3",
   "version": "3.13.5"
  }
 },
 "nbformat": 4,
 "nbformat_minor": 5
}
